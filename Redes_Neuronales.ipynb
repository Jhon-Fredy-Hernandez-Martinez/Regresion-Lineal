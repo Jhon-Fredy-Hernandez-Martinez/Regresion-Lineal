{
  "nbformat": 4,
  "nbformat_minor": 0,
  "metadata": {
    "colab": {
      "provenance": [],
      "authorship_tag": "ABX9TyMq93I/QLSdIIBf/7nIR0Pr",
      "include_colab_link": true
    },
    "kernelspec": {
      "name": "python3",
      "display_name": "Python 3"
    },
    "language_info": {
      "name": "python"
    }
  },
  "cells": [
    {
      "cell_type": "markdown",
      "metadata": {
        "id": "view-in-github",
        "colab_type": "text"
      },
      "source": [
        "<a href=\"https://colab.research.google.com/github/Jhon-Fredy-Hernandez-Martinez/TalentoTECH/blob/main/Redes_Neuronales.ipynb\" target=\"_parent\"><img src=\"https://colab.research.google.com/assets/colab-badge.svg\" alt=\"Open In Colab\"/></a>"
      ]
    },
    {
      "cell_type": "markdown",
      "source": [
        "**Redes Neuronales**"
      ],
      "metadata": {
        "id": "RZOf4lo_q7Dl"
      }
    },
    {
      "cell_type": "code",
      "source": [],
      "metadata": {
        "id": "xrUdd81arBh3"
      },
      "execution_count": null,
      "outputs": []
    },
    {
      "cell_type": "markdown",
      "source": [
        "progrmacaión reguar: Comvertir de grados c a f"
      ],
      "metadata": {
        "id": "9s9eLOUSrETt"
      }
    },
    {
      "cell_type": "code",
      "source": [
        "\n",
        "def fuction(c):\n",
        "  f = c * 1.8 + 32\n",
        "  return f\n",
        "\n",
        "fuction(100)"
      ],
      "metadata": {
        "id": "O3cqZDAYrB9d"
      },
      "execution_count": null,
      "outputs": []
    },
    {
      "cell_type": "markdown",
      "source": [
        "aprendizaje automatico"
      ],
      "metadata": {
        "id": "njGpNBE-rMSu"
      }
    },
    {
      "cell_type": "code",
      "source": [
        "\n",
        "import tensorflow as tf #libreria de IA hecha por goggle proporciona una varidad de herramientas y recursos par costruir y entrenar models de AA, asi como para realizar calculos numericos de manera eficiente\n",
        "import numpy as np # trabja con arreglos numericos\n"
      ],
      "metadata": {
        "id": "VVyq1IMlrM7g"
      },
      "execution_count": 2,
      "outputs": []
    },
    {
      "cell_type": "code",
      "source": [
        "\n",
        "celsius = np.array([-40, -10, 0, 8, 15, 22, 38], dtype=float)\n",
        "fhare = np.array([-40, 14, 32, 46, 59, 72, 100])"
      ],
      "metadata": {
        "id": "qs6rNVpzrQi-"
      },
      "execution_count": 3,
      "outputs": []
    },
    {
      "cell_type": "code",
      "source": [
        "capa = tf.keras.layers.Dense(units=1, input_shape=[1])\n",
        "modelo = tf.keras.Sequential([capa])\n",
        ""
      ],
      "metadata": {
        "id": "vLvmciSsrSXo"
      },
      "execution_count": 5,
      "outputs": []
    },
    {
      "cell_type": "code",
      "source": [
        "modelo.compile(\n",
        "    optimizer=tf.keras.optimizers.Adam(0.1), loss=\"mean_squared_error\"\n",
        ")"
      ],
      "metadata": {
        "id": "ChzdP0rnrTxU"
      },
      "execution_count": 6,
      "outputs": []
    },
    {
      "cell_type": "code",
      "source": [
        "\n",
        "#entrenar el modelo con fit\n",
        "print(\"Comenzando el entrenamiento...\")\n",
        "historial = modelo.fit(celsius,fhare, epochs= 1000, verbose=False) #epocas 1000, mil vueltas/bucles a los datos de entradas\n",
        "print(\"Modelo entrenado...\")"
      ],
      "metadata": {
        "colab": {
          "base_uri": "https://localhost:8080/"
        },
        "id": "HOVFOpqxrVPt",
        "outputId": "33e7055c-c232-4dbd-eb1f-7051cd15c4af"
      },
      "execution_count": 7,
      "outputs": [
        {
          "output_type": "stream",
          "name": "stdout",
          "text": [
            "Comenzando el entrenamiento...\n",
            "Modelo entrenado...\n"
          ]
        }
      ]
    },
    {
      "cell_type": "code",
      "source": [
        "#grafico\n",
        "\n",
        "import matplotlib.pyplot as plt\n",
        "plt.xlabel(\"N. Cantidas de vuletas\")\n",
        "plt.ylabel(\"MAGNITUD Y PERDIDA\")\n",
        "plt.plot(historial.history[\"loss\"])"
      ],
      "metadata": {
        "colab": {
          "base_uri": "https://localhost:8080/",
          "height": 466
        },
        "id": "TXLiBy_MrYAu",
        "outputId": "be9f5cd5-907a-42f3-bf0f-3d8de2e5c609"
      },
      "execution_count": 8,
      "outputs": [
        {
          "output_type": "execute_result",
          "data": {
            "text/plain": [
              "[<matplotlib.lines.Line2D at 0x7d82fe18ea40>]"
            ]
          },
          "metadata": {},
          "execution_count": 8
        },
        {
          "output_type": "display_data",
          "data": {
            "text/plain": [
              "<Figure size 640x480 with 1 Axes>"
            ],
            "image/png": "[encoded data removed]"
          },
          "metadata": {}
        }
      ]
    },
    {
      "cell_type": "code",
      "source": [
        "\n",
        "print(\"hagamos una predicion..\")\n",
        "resultado = modelo.predict([100])\n",
        "print(\"El resultado es: \" + str(resultado) + \"fhare\")\n",
        ""
      ],
      "metadata": {
        "colab": {
          "base_uri": "https://localhost:8080/"
        },
        "id": "yfyxgUHxraCN",
        "outputId": "9cfaeccd-fb2e-40ff-a65a-164e4ac07f19"
      },
      "execution_count": 9,
      "outputs": [
        {
          "output_type": "stream",
          "name": "stdout",
          "text": [
            "hagamos una predicion..\n",
            "1/1 [==============================] - 0s 179ms/step\n",
            "El resultado es: [[211.74347]]fhare\n"
          ]
        }
      ]
    },
    {
      "cell_type": "code",
      "source": [
        "\n",
        "print(\"variables internas del modelo\")\n",
        "print(capa.get_weights())\n"
      ],
      "metadata": {
        "colab": {
          "base_uri": "https://localhost:8080/"
        },
        "id": "sBsPRS5frcSk",
        "outputId": "3b5deaad-fe73-4aa3-ab4f-1d723b70679b"
      },
      "execution_count": 10,
      "outputs": [
        {
          "output_type": "stream",
          "name": "stdout",
          "text": [
            "variables internas del modelo\n",
            "[array([[1.7981756]], dtype=float32), array([31.925926], dtype=float32)]\n"
          ]
        }
      ]
    }
  ]
}